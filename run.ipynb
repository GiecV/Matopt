{
 "cells": [
  {
   "cell_type": "markdown",
   "metadata": {},
   "source": [
    "# Mathematical Optimisation - Project\n",
    "This project aims at ricreating the results reported in:\n",
    "\n",
    "[A fix-and-optimize heuristic for the Unrelated Parallel Machine Scheduling Problem\n",
    "](https://www.sciencedirect.com/science/article/pii/S0305054823003684)"
   ]
  },
  {
   "cell_type": "code",
   "execution_count": 1,
   "metadata": {},
   "outputs": [],
   "source": [
    "from Solver import Solver\n",
    "from MPA.MPA import MPA\n",
    "from Heuristic.Greedy import Greedy\n",
    "from Heuristic.FixOpt import FixOpt\n",
    "import random as r\n",
    "import json\n",
    "from IPython.display import clear_output\n",
    "\n",
    "r.seed(1000)\n",
    "  \n",
    "with open('credentials.txt') as f: \n",
    "    data = f.read() \n",
    "options = json.loads(data)"
   ]
  },
  {
   "cell_type": "markdown",
   "metadata": {},
   "source": [
    "## Creation of the matrices\n",
    "- P stores the execution times\n",
    "- S stores the setup times\n",
    "The matrices are implemented using dictionaries to handle the indexes not starting from 0"
   ]
  },
  {
   "cell_type": "markdown",
   "metadata": {},
   "source": [
    "### Small instance presented in the paper"
   ]
  },
  {
   "cell_type": "code",
   "execution_count": 2,
   "metadata": {},
   "outputs": [],
   "source": [
    "P_dict = {\n",
    "            (1,1): 2,(1,2): 2,(1,3): 3,(1,4): 4,(2,1): 3,(2,2): 3,(2,3): 5,(2,4): 3,\n",
    "         }\n",
    "\n",
    "S_dict = {\n",
    "            (1,1,1): 0,(1,1,2): 2,(1,1,3): 1,(1,1,4): 1,(1,2,1): 2,(1,2,2): 0,(1,2,3): 1,(1,2,4): 2,\n",
    "            (1,3,1): 3,(1,3,2): 1,(1,3,3): 0,(1,3,4): 3,(1,4,1): 2,(1,4,2): 1,(1,4,3): 2,(1,4,4): 0,\n",
    "            (2,1,1): 0,(2,1,2): 3,(2,1,3): 2,(2,1,4): 1,(2,2,1): 2,(2,2,2): 0,(2,2,3): 3,(2,2,4): 2,\n",
    "            (2,3,1): 3,(2,3,2): 2,(2,3,3): 0,(2,3,4): 3,(2,4,1): 2,(2,4,2): 2,(2,4,3): 3,(2,4,4): 0,\n",
    "         }"
   ]
  },
  {
   "cell_type": "markdown",
   "metadata": {},
   "source": [
    "### Instance generator\n",
    "The parameters are:\n",
    "- The cardinality of the set of jobs N\n",
    "- The cardinality of the set of machines M\n",
    "- The minimum and the maximum execution time\n",
    "- The minimum and the maximum setup time"
   ]
  },
  {
   "cell_type": "code",
   "execution_count": 3,
   "metadata": {},
   "outputs": [],
   "source": [
    "def generate_instance(N_cardinality, M_cardinality,\n",
    "                      min_execution_time = 1,max_execution_time = 10,\n",
    "                      min_setup_time = 1,max_setup_time = 3):\n",
    "    \n",
    "    P = {}\n",
    "    S = {}\n",
    "    \n",
    "    N = range(1, N_cardinality+1)\n",
    "    M = range(1, M_cardinality+1)\n",
    "    \n",
    "    for i in M:\n",
    "        for j in N:\n",
    "            P[i,j] = r.randint(min_execution_time, max_execution_time)\n",
    "            \n",
    "    for i in M:\n",
    "        for j in N:\n",
    "            for k in N:\n",
    "                S[i,j,k] = r.randint(min_setup_time, max_setup_time)\n",
    "    \n",
    "    return P,S\n",
    "\n",
    "N_cardinality = 20\n",
    "M_cardinality = 5\n",
    "\n",
    "P_dict, S_dict = generate_instance(N_cardinality=N_cardinality,M_cardinality=M_cardinality)"
   ]
  },
  {
   "cell_type": "markdown",
   "metadata": {},
   "source": [
    "The sets N,M,N0 are created again to print the results down the line"
   ]
  },
  {
   "cell_type": "code",
   "execution_count": 4,
   "metadata": {},
   "outputs": [],
   "source": [
    "N = range(1, N_cardinality+1)\n",
    "M = range(1, M_cardinality+1)\n",
    "N0 = [i for i in N]\n",
    "N0.insert(0,0)"
   ]
  },
  {
   "cell_type": "markdown",
   "metadata": {},
   "source": [
    "# Exact Solution\n",
    "\n",
    "The problem is solved exactly using the Solver class.\n",
    "\n",
    "Then, the results are printed. Note that job 0 is a dummy job used to represent the beginning and the end of activities for each machine."
   ]
  },
  {
   "cell_type": "code",
   "execution_count": 5,
   "metadata": {},
   "outputs": [
    {
     "name": "stdout",
     "output_type": "stream",
     "text": [
      "Job 1 completed at 8.0s\n",
      "Job 2 completed at 2.0s\n",
      "Job 3 completed at 7.0s\n",
      "Job 4 completed at 14.0s\n",
      "Job 5 completed at 11.0s\n",
      "Job 6 completed at 11.0s\n",
      "Job 7 completed at 15.0s\n",
      "Job 8 completed at 2.0s\n",
      "Job 9 completed at 11.0s\n",
      "Job 10 completed at 8.0s\n",
      "Job 11 completed at 15.0s\n",
      "Job 12 completed at 9.0s\n",
      "Job 13 completed at 13.0s\n",
      "Job 14 completed at 6.0s\n",
      "Job 15 completed at 10.0s\n",
      "Job 16 completed at 2.0s\n",
      "Job 17 completed at 15.0s\n",
      "Job 18 completed at 6.0s\n",
      "Job 19 completed at 13.0s\n",
      "Job 20 completed at 4.0s\n",
      "Job 2 has been assigned to machine 1\n",
      "Job 5 has been assigned to machine 1\n",
      "Job 7 has been assigned to machine 1\n",
      "Job 10 has been assigned to machine 1\n",
      "Job 20 has been assigned to machine 1\n",
      "Job 6 has been assigned to machine 2\n",
      "Job 12 has been assigned to machine 2\n",
      "Job 14 has been assigned to machine 2\n",
      "Job 16 has been assigned to machine 2\n",
      "Job 17 has been assigned to machine 2\n",
      "Job 19 has been assigned to machine 2\n",
      "Job 4 has been assigned to machine 3\n",
      "Job 9 has been assigned to machine 3\n",
      "Job 18 has been assigned to machine 3\n",
      "Job 1 has been assigned to machine 4\n",
      "Job 8 has been assigned to machine 4\n",
      "Job 11 has been assigned to machine 4\n",
      "Job 13 has been assigned to machine 4\n",
      "Job 3 has been assigned to machine 5\n",
      "Job 15 has been assigned to machine 5\n",
      "Job 0 scheduled in sequence of job 2 in machine 1\n",
      "Job 2 scheduled in sequence of job 20 in machine 1\n",
      "Job 5 scheduled in sequence of job 7 in machine 1\n",
      "Job 7 scheduled in sequence of job 0 in machine 1\n",
      "Job 10 scheduled in sequence of job 5 in machine 1\n",
      "Job 20 scheduled in sequence of job 10 in machine 1\n",
      "Job 0 scheduled in sequence of job 16 in machine 2\n",
      "Job 6 scheduled in sequence of job 19 in machine 2\n",
      "Job 12 scheduled in sequence of job 6 in machine 2\n",
      "Job 14 scheduled in sequence of job 12 in machine 2\n",
      "Job 16 scheduled in sequence of job 14 in machine 2\n",
      "Job 17 scheduled in sequence of job 0 in machine 2\n",
      "Job 19 scheduled in sequence of job 17 in machine 2\n",
      "Job 0 scheduled in sequence of job 18 in machine 3\n",
      "Job 4 scheduled in sequence of job 0 in machine 3\n",
      "Job 9 scheduled in sequence of job 4 in machine 3\n",
      "Job 18 scheduled in sequence of job 9 in machine 3\n",
      "Job 0 scheduled in sequence of job 8 in machine 4\n",
      "Job 1 scheduled in sequence of job 13 in machine 4\n",
      "Job 8 scheduled in sequence of job 1 in machine 4\n",
      "Job 11 scheduled in sequence of job 0 in machine 4\n",
      "Job 13 scheduled in sequence of job 11 in machine 4\n",
      "Job 0 scheduled in sequence of job 3 in machine 5\n",
      "Job 3 scheduled in sequence of job 15 in machine 5\n",
      "Job 15 scheduled in sequence of job 0 in machine 5\n",
      "The makespan has been minimized to 14.999999633639497s\n"
     ]
    }
   ],
   "source": [
    "s = Solver(execution_times = P_dict, setup_times = S_dict)\n",
    "decision_variables,completion_times,maximum_makespan,assignments = s.solve(options=options)\n",
    "clear_output(wait=True)\n",
    "\n",
    "for i in s.N:\n",
    "    print(f'Job {i} completed at {completion_times[i]}s')\n",
    "\n",
    "for i in s.M:\n",
    "    for k in s.N:\n",
    "        if assignments[i,k] == 1:\n",
    "            print(f'Job {k} has been assigned to machine {i}')\n",
    "\n",
    "for i in s.M:\n",
    "    for j in s.N0:\n",
    "        for k in s.N0:\n",
    "            if decision_variables[i,j,k] == 1:\n",
    "                print(f'Job {j} scheduled in sequence of job {k} in machine {i}')\n",
    "\n",
    "print(f'The makespan has been minimized to {maximum_makespan}s')"
   ]
  },
  {
   "cell_type": "markdown",
   "metadata": {},
   "source": [
    "# Mathematical Programming Algorithm (MPA)\n",
    "\n",
    "The paper cites a decomposition algorithm (Branch-and-check) based on the previous formulation.\n",
    "\n",
    "It is an exact formulation based on a master algorithm and a sequence algorithm:\n",
    "- The master algorithm is responsible of assigning jobs to machines\n",
    "- The sequence problem is responsible of finding the optimal sequence of jobs for each machine"
   ]
  },
  {
   "cell_type": "code",
   "execution_count": 6,
   "metadata": {},
   "outputs": [
    {
     "name": "stdout",
     "output_type": "stream",
     "text": [
      "Job 0 scheduled in sequence of job 7 in machine 1\n",
      "Job 2 scheduled in sequence of job 0 in machine 1\n",
      "Job 5 scheduled in sequence of job 2 in machine 1\n",
      "Job 7 scheduled in sequence of job 20 in machine 1\n",
      "Job 10 scheduled in sequence of job 5 in machine 1\n",
      "Job 20 scheduled in sequence of job 10 in machine 1\n",
      "Job 0 scheduled in sequence of job 12 in machine 2\n",
      "Job 6 scheduled in sequence of job 19 in machine 2\n",
      "Job 12 scheduled in sequence of job 6 in machine 2\n",
      "Job 16 scheduled in sequence of job 0 in machine 2\n",
      "Job 17 scheduled in sequence of job 16 in machine 2\n",
      "Job 19 scheduled in sequence of job 17 in machine 2\n",
      "Job 0 scheduled in sequence of job 18 in machine 3\n",
      "Job 9 scheduled in sequence of job 14 in machine 3\n",
      "Job 14 scheduled in sequence of job 0 in machine 3\n",
      "Job 18 scheduled in sequence of job 9 in machine 3\n",
      "Job 0 scheduled in sequence of job 8 in machine 4\n",
      "Job 1 scheduled in sequence of job 13 in machine 4\n",
      "Job 8 scheduled in sequence of job 1 in machine 4\n",
      "Job 11 scheduled in sequence of job 0 in machine 4\n",
      "Job 13 scheduled in sequence of job 11 in machine 4\n",
      "Job 0 scheduled in sequence of job 4 in machine 5\n",
      "Job 3 scheduled in sequence of job 15 in machine 5\n",
      "Job 4 scheduled in sequence of job 3 in machine 5\n",
      "Job 15 scheduled in sequence of job 0 in machine 5\n",
      "The makespan has been minimized to 15s\n"
     ]
    }
   ],
   "source": [
    "s = MPA(execution_times = P_dict, setup_times = S_dict, t_max=10)\n",
    "decision_variables,maximum_makespan = s.solve(options=options)\n",
    "clear_output(wait=True)\n",
    "\n",
    "for i in s.M:\n",
    "    for j in s.N0:\n",
    "        for k in s.N0:\n",
    "            if decision_variables[i,j,k] == 1:\n",
    "                print(f'Job {j} scheduled in sequence of job {k} in machine {i}')\n",
    "\n",
    "print(f'The makespan has been minimized to {maximum_makespan}s')"
   ]
  },
  {
   "cell_type": "markdown",
   "metadata": {},
   "source": [
    "# Fix-and-Optimize approach"
   ]
  },
  {
   "cell_type": "code",
   "execution_count": 7,
   "metadata": {},
   "outputs": [
    {
     "name": "stdout",
     "output_type": "stream",
     "text": [
      "Job 0 scheduled in sequence of job 18 in machine 1\n",
      "Job 5 scheduled in sequence of job 0 in machine 1\n",
      "Job 12 scheduled in sequence of job 16 in machine 1\n",
      "Job 16 scheduled in sequence of job 5 in machine 1\n",
      "Job 18 scheduled in sequence of job 12 in machine 1\n",
      "Job 0 scheduled in sequence of job 4 in machine 2\n",
      "Job 4 scheduled in sequence of job 14 in machine 2\n",
      "Job 6 scheduled in sequence of job 0 in machine 2\n",
      "Job 14 scheduled in sequence of job 19 in machine 2\n",
      "Job 19 scheduled in sequence of job 6 in machine 2\n",
      "Job 0 scheduled in sequence of job 10 in machine 3\n",
      "Job 1 scheduled in sequence of job 0 in machine 3\n",
      "Job 9 scheduled in sequence of job 17 in machine 3\n",
      "Job 10 scheduled in sequence of job 9 in machine 3\n",
      "Job 17 scheduled in sequence of job 1 in machine 3\n",
      "Job 0 scheduled in sequence of job 3 in machine 4\n",
      "Job 3 scheduled in sequence of job 13 in machine 4\n",
      "Job 8 scheduled in sequence of job 15 in machine 4\n",
      "Job 11 scheduled in sequence of job 0 in machine 4\n",
      "Job 13 scheduled in sequence of job 8 in machine 4\n",
      "Job 15 scheduled in sequence of job 11 in machine 4\n",
      "Job 0 scheduled in sequence of job 20 in machine 5\n",
      "Job 2 scheduled in sequence of job 7 in machine 5\n",
      "Job 7 scheduled in sequence of job 0 in machine 5\n",
      "Job 20 scheduled in sequence of job 2 in machine 5\n",
      "Job 2 has been assigned to machine 1\n",
      "Job 5 has been assigned to machine 1\n",
      "Job 7 has been assigned to machine 1\n",
      "Job 10 has been assigned to machine 1\n",
      "Job 20 has been assigned to machine 1\n",
      "Job 6 has been assigned to machine 2\n",
      "Job 12 has been assigned to machine 2\n",
      "Job 14 has been assigned to machine 2\n",
      "Job 16 has been assigned to machine 2\n",
      "Job 17 has been assigned to machine 2\n",
      "Job 19 has been assigned to machine 2\n",
      "Job 4 has been assigned to machine 3\n",
      "Job 9 has been assigned to machine 3\n",
      "Job 18 has been assigned to machine 3\n",
      "Job 1 has been assigned to machine 4\n",
      "Job 8 has been assigned to machine 4\n",
      "Job 11 has been assigned to machine 4\n",
      "Job 13 has been assigned to machine 4\n",
      "Job 3 has been assigned to machine 5\n",
      "Job 15 has been assigned to machine 5\n",
      "Job 1 completed at 8.0s\n",
      "Job 2 completed at 2.0s\n",
      "Job 3 completed at 7.0s\n",
      "Job 4 completed at 14.0s\n",
      "Job 5 completed at 11.0s\n",
      "Job 6 completed at 11.0s\n",
      "Job 7 completed at 15.0s\n",
      "Job 8 completed at 2.0s\n",
      "Job 9 completed at 11.0s\n",
      "Job 10 completed at 8.0s\n",
      "Job 11 completed at 15.0s\n",
      "Job 12 completed at 9.0s\n",
      "Job 13 completed at 13.0s\n",
      "Job 14 completed at 6.0s\n",
      "Job 15 completed at 10.0s\n",
      "Job 16 completed at 2.0s\n",
      "Job 17 completed at 15.0s\n",
      "Job 18 completed at 6.0s\n",
      "Job 19 completed at 13.0s\n",
      "Job 20 completed at 4.0s\n"
     ]
    }
   ],
   "source": [
    "greedy = Greedy(execution_times=P_dict, setup_times=S_dict)\n",
    "solution = greedy.solve()\n",
    "\n",
    "for i in s.M:\n",
    "    for j in s.N0:\n",
    "        for k in s.N0:\n",
    "            if solution[i,j,k] == 1:\n",
    "                print(f'Job {j} scheduled in sequence of job {k} in machine {i}')\n",
    "\n",
    "for i in s.M:\n",
    "    for k in s.N:\n",
    "        if assignments[i,k] == 1:\n",
    "            print(f'Job {k} has been assigned to machine {i}')\n",
    "\n",
    "for j in s.N:\n",
    "    print(f'Job {j} completed at {completion_times[j]}s')"
   ]
  },
  {
   "cell_type": "code",
   "execution_count": 8,
   "metadata": {},
   "outputs": [
    {
     "name": "stdout",
     "output_type": "stream",
     "text": [
      "Job 0 scheduled after job 2 in machine 1\n",
      "Job 2 scheduled after job 7 in machine 1\n",
      "Job 5 scheduled after job 0 in machine 1\n",
      "Job 7 scheduled after job 20 in machine 1\n",
      "Job 10 scheduled after job 5 in machine 1\n",
      "Job 20 scheduled after job 10 in machine 1\n",
      "Job 0 scheduled after job 12 in machine 2\n",
      "Job 6 scheduled after job 19 in machine 2\n",
      "Job 12 scheduled after job 6 in machine 2\n",
      "Job 16 scheduled after job 0 in machine 2\n",
      "Job 17 scheduled after job 16 in machine 2\n",
      "Job 19 scheduled after job 17 in machine 2\n",
      "Job 0 scheduled after job 18 in machine 3\n",
      "Job 9 scheduled after job 0 in machine 3\n",
      "Job 18 scheduled after job 9 in machine 3\n",
      "Job 0 scheduled after job 13 in machine 4\n",
      "Job 1 scheduled after job 0 in machine 4\n",
      "Job 4 scheduled after job 8 in machine 4\n",
      "Job 8 scheduled after job 1 in machine 4\n",
      "Job 13 scheduled after job 4 in machine 4\n",
      "Job 0 scheduled after job 3 in machine 5\n",
      "Job 3 scheduled after job 11 in machine 5\n",
      "Job 11 scheduled after job 15 in machine 5\n",
      "Job 15 scheduled after job 0 in machine 5\n",
      "The makespan has been minimized to 15s\n"
     ]
    }
   ],
   "source": [
    "m = FixOpt(initial_solution=solution, setup_times=S_dict,execution_times=P_dict, N=N, M=M, N0=N0, \n",
    "           subproblem_size_adjust_rate=0.1, t_max = 30, subproblem_runtime_limit=10, subproblem_size=5)\n",
    "\n",
    "solution, makespan = m.solve()\n",
    "clear_output(wait=True)\n",
    "for i in M:\n",
    "    for j in N0:\n",
    "        for k in N0:\n",
    "            if solution[i,j,k] == 1:\n",
    "                print(f'Job {j} scheduled after job {k} in machine {i}')\n",
    "print(f'The makespan has been minimized to {makespan}s')"
   ]
  }
 ],
 "metadata": {
  "kernelspec": {
   "display_name": "base",
   "language": "python",
   "name": "python3"
  },
  "language_info": {
   "codemirror_mode": {
    "name": "ipython",
    "version": 3
   },
   "file_extension": ".py",
   "mimetype": "text/x-python",
   "name": "python",
   "nbconvert_exporter": "python",
   "pygments_lexer": "ipython3",
   "version": "3.11.5"
  }
 },
 "nbformat": 4,
 "nbformat_minor": 2
}
