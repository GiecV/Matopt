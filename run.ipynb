{
 "cells": [
  {
   "cell_type": "markdown",
   "metadata": {},
   "source": [
    "# Mathematical Optimisation - Project\n",
    "This project aims at ricreating the results reported in:\n",
    "\n",
    "[A fix-and-optimize heuristic for the Unrelated Parallel Machine Scheduling Problem\n",
    "](https://www.sciencedirect.com/science/article/pii/S0305054823003684)"
   ]
  },
  {
   "cell_type": "code",
   "execution_count": null,
   "metadata": {},
   "outputs": [],
   "source": [
    "from Solver import Solver\n",
    "from MPA.MPA import MPA\n",
    "from Heuristic.Greedy import Greedy\n",
    "from Heuristic.FixOpt import FixOpt\n",
    "import random as r\n",
    "import json\n",
    "from IPython.display import clear_output\n",
    "\n",
    "r.seed(10)\n",
    "  \n",
    "with open('credentials.txt') as f: \n",
    "    data = f.read() \n",
    "options = json.loads(data)"
   ]
  },
  {
   "cell_type": "markdown",
   "metadata": {},
   "source": [
    "## Creation of the matrices\n",
    "- P stores the execution times\n",
    "- S stores the setup times\n",
    "The matrices are implemented using dictionaries to handle the indexes not starting from 0"
   ]
  },
  {
   "cell_type": "markdown",
   "metadata": {},
   "source": [
    "### Small instance presented in the paper"
   ]
  },
  {
   "cell_type": "code",
   "execution_count": null,
   "metadata": {},
   "outputs": [],
   "source": [
    "P_dict = {\n",
    "            (1,1): 2,(1,2): 2,(1,3): 3,(1,4): 4,(2,1): 3,(2,2): 3,(2,3): 5,(2,4): 3,\n",
    "         }\n",
    "\n",
    "S_dict = {\n",
    "            (1,1,1): 0,(1,1,2): 2,(1,1,3): 1,(1,1,4): 1,(1,2,1): 2,(1,2,2): 0,(1,2,3): 1,(1,2,4): 2,\n",
    "            (1,3,1): 3,(1,3,2): 1,(1,3,3): 0,(1,3,4): 3,(1,4,1): 2,(1,4,2): 1,(1,4,3): 2,(1,4,4): 0,\n",
    "            (2,1,1): 0,(2,1,2): 3,(2,1,3): 2,(2,1,4): 1,(2,2,1): 2,(2,2,2): 0,(2,2,3): 3,(2,2,4): 2,\n",
    "            (2,3,1): 3,(2,3,2): 2,(2,3,3): 0,(2,3,4): 3,(2,4,1): 2,(2,4,2): 2,(2,4,3): 3,(2,4,4): 0,\n",
    "         }"
   ]
  },
  {
   "cell_type": "markdown",
   "metadata": {},
   "source": [
    "### Instance generator\n",
    "The parameters are:\n",
    "- The cardinality of the set of jobs N\n",
    "- The cardinality of the set of machines M\n",
    "- The minimum and the maximum execution time\n",
    "- The minimum and the maximum setup time"
   ]
  },
  {
   "cell_type": "code",
   "execution_count": null,
   "metadata": {},
   "outputs": [],
   "source": [
    "def generate_instance(N_cardinality, M_cardinality,\n",
    "                      min_execution_time = 1,max_execution_time = 10,\n",
    "                      min_setup_time = 1,max_setup_time = 3):\n",
    "    \n",
    "    P = {}\n",
    "    S = {}\n",
    "    \n",
    "    N = range(1, N_cardinality+1)\n",
    "    M = range(1, M_cardinality+1)\n",
    "    \n",
    "    for i in M:\n",
    "        for j in N:\n",
    "            P[i,j] = r.randint(min_execution_time, max_execution_time)\n",
    "            \n",
    "    for i in M:\n",
    "        for j in N:\n",
    "            for k in N:\n",
    "                S[i,j,k] = r.randint(min_setup_time, max_setup_time)\n",
    "    \n",
    "    return P,S\n",
    "\n",
    "N_cardinality = 50\n",
    "M_cardinality = 2\n",
    "\n",
    "P_dict, S_dict = generate_instance(N_cardinality=N_cardinality,M_cardinality=M_cardinality,\n",
    "                                   min_execution_time = 1, max_execution_time = 100,\n",
    "                                   min_setup_time = 1, max_setup_time = 100)\n",
    "\n",
    "P_dict, S_dict = generate_instance(N_cardinality=N_cardinality,M_cardinality=M_cardinality)"
   ]
  },
  {
   "cell_type": "markdown",
   "metadata": {},
   "source": [
    "The sets N,M,N0 are created again to print the results down the line"
   ]
  },
  {
   "cell_type": "code",
   "execution_count": null,
   "metadata": {},
   "outputs": [],
   "source": [
    "N = range(1, N_cardinality+1)\n",
    "M = range(1, M_cardinality+1)\n",
    "N0 = [i for i in N]\n",
    "N0.insert(0,0)"
   ]
  },
  {
   "cell_type": "markdown",
   "metadata": {},
   "source": [
    "# Exact Solution\n",
    "\n",
    "The problem is solved exactly using the Solver class.\n",
    "\n",
    "Then, the results are printed. Note that job 0 is a dummy job used to represent the beginning and the end of activities for each machine."
   ]
  },
  {
   "cell_type": "code",
   "execution_count": null,
   "metadata": {},
   "outputs": [],
   "source": [
    "s = Solver(execution_times = P_dict, setup_times = S_dict)\n",
    "decision_variables,completion_times,maximum_makespan,assignments = s.solve(options=options)\n",
    "clear_output(wait=True)\n",
    "for i in s.N:\n",
    "    print(f'Job {i} completed at {completion_times[i]}s')\n",
    "\n",
    "for i in s.M:\n",
    "    for k in s.N:\n",
    "        if assignments[i,k] == 1:\n",
    "            print(f'Job {k} has been assigned to machine {i}')\n",
    "\n",
    "for i in s.M:\n",
    "    for j in s.N0:\n",
    "        for k in s.N0:\n",
    "            if decision_variables[i,j,k] == 1:\n",
    "                print(f'Job {j} scheduled in sequence of job {k} in machine {i}')\n",
    "\n",
    "print(f'The makespan has been minimized to {maximum_makespan}s')"
   ]
  },
  {
   "cell_type": "markdown",
   "metadata": {},
   "source": [
    "# Mathematical Programming Algorithm (MPA)\n",
    "\n",
    "The paper cites a decomposition algorithm (Branch-and-check) based on the previous formulation.\n",
    "\n",
    "It is an exact formulation based on a master algorithm and a sequence algorithm:\n",
    "- The master algorithm is responsible of assigning jobs to machines\n",
    "- The sequence problem is responsible of finding the optimal sequence of jobs for each machine"
   ]
  },
  {
   "cell_type": "code",
   "execution_count": null,
   "metadata": {},
   "outputs": [],
   "source": [
    "s = MPA(execution_times = P_dict, setup_times = S_dict, t_max=10800) #  max_time = 1800\n",
    "decision_variables,maximum_makespan = s.solve(options=options)\n",
    "clear_output(wait=True)\n",
    "for i in s.M:\n",
    "    for j in s.N0:\n",
    "        for k in s.N0:\n",
    "            if decision_variables[i,j,k] == 1:\n",
    "                print(f'Job {j} scheduled in sequence of job {k} in machine {i}')\n",
    "\n",
    "print(f'The makespan has been minimized to {maximum_makespan}s')"
   ]
  },
  {
   "cell_type": "markdown",
   "metadata": {},
   "source": [
    "# Fix-and-Optimize approach"
   ]
  },
  {
   "cell_type": "markdown",
   "metadata": {},
   "source": [
    "The heuristic needs an initial solution. Its quality is proven to be very important in the heuristic's performance. Hence, in the following a greedy solution is found."
   ]
  },
  {
   "cell_type": "code",
   "execution_count": null,
   "metadata": {},
   "outputs": [],
   "source": [
    "greedy = Greedy(execution_times=P_dict, setup_times=S_dict)\n",
    "solution = greedy.solve()\n",
    "\n",
    "for i in s.M:\n",
    "    for j in s.N0:\n",
    "        for k in s.N0:\n",
    "            if solution[i,j,k] == 1:\n",
    "                print(f'Job {j} scheduled in sequence of job {k} in machine {i}')"
   ]
  },
  {
   "cell_type": "markdown",
   "metadata": {},
   "source": [
    "Now the actual heuristcic can be run with the greedy solution as the starting configuration"
   ]
  },
  {
   "cell_type": "code",
   "execution_count": null,
   "metadata": {},
   "outputs": [],
   "source": [
    "m = FixOpt(initial_solution=solution, setup_times=S_dict,execution_times=P_dict, N=N, M=M, N0=N0, \n",
    "           subproblem_size_adjust_rate=0.1, t_max = 60, subproblem_runtime_limit=10, subproblem_size=5)\n",
    "\n",
    "solution, makespan = m.solve()\n",
    "clear_output(wait=True)\n",
    "for i in M:\n",
    "    for j in N0:\n",
    "        for k in N0:\n",
    "            if solution[i,j,k] == 1:\n",
    "                print(f'Job {j} scheduled after job {k} in machine {i}')\n",
    "print(f'The makespan has been minimized to {makespan}s')"
   ]
  }
 ],
 "metadata": {
  "kernelspec": {
   "display_name": "base",
   "language": "python",
   "name": "python3"
  },
  "language_info": {
   "codemirror_mode": {
    "name": "ipython",
    "version": 3
   },
   "file_extension": ".py",
   "mimetype": "text/x-python",
   "name": "python",
   "nbconvert_exporter": "python",
   "pygments_lexer": "ipython3",
   "version": "3.11.5"
  }
 },
 "nbformat": 4,
 "nbformat_minor": 2
}
