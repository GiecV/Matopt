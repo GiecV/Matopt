{
 "cells": [
  {
   "cell_type": "markdown",
   "metadata": {},
   "source": [
    "# Mathematical Optimisation - Project\n",
    "This project aims at ricreating the results reported in:\n",
    "\n",
    "[A fix-and-optimize heuristic for the Unrelated Parallel Machine Scheduling Problem\n",
    "](https://www.sciencedirect.com/science/article/pii/S0305054823003684)"
   ]
  },
  {
   "cell_type": "code",
   "execution_count": 1,
   "metadata": {},
   "outputs": [],
   "source": [
    "from Solver import Solver\n",
    "from MPA.MPA import MPA\n",
    "from Heuristic.Greedy import Greedy\n",
    "from Heuristic.FixOpt import FixOpt\n",
    "import random as r\n",
    "import json\n",
    "from IPython.display import clear_output\n",
    "\n",
    "r.seed(14)\n",
    "\n",
    "options = {}\n",
    "\n",
    "# Uncomment if you are using a WLS Gurobi license\n",
    "# and write your credentials in credentials.txt\n",
    "with open('credentials.txt') as f: \n",
    "    data = f.read() \n",
    "options = json.loads(data)"
   ]
  },
  {
   "cell_type": "markdown",
   "metadata": {},
   "source": [
    "## Creation of the matrices\n",
    "- P stores the execution times\n",
    "- S stores the setup times\n",
    "The matrices are implemented using dictionaries to handle the indexes not starting from 0"
   ]
  },
  {
   "cell_type": "markdown",
   "metadata": {},
   "source": [
    "### Small instance presented in the paper"
   ]
  },
  {
   "cell_type": "code",
   "execution_count": 2,
   "metadata": {},
   "outputs": [],
   "source": [
    "P_dict = {\n",
    "            (1,1): 2,(1,2): 2,(1,3): 3,(1,4): 4,(2,1): 3,(2,2): 3,(2,3): 5,(2,4): 3,\n",
    "         }\n",
    "\n",
    "S_dict = {\n",
    "            (1,1,1): 0,(1,1,2): 2,(1,1,3): 1,(1,1,4): 1,(1,2,1): 2,(1,2,2): 0,(1,2,3): 1,(1,2,4): 2,\n",
    "            (1,3,1): 3,(1,3,2): 1,(1,3,3): 0,(1,3,4): 3,(1,4,1): 2,(1,4,2): 1,(1,4,3): 2,(1,4,4): 0,\n",
    "            (2,1,1): 0,(2,1,2): 3,(2,1,3): 2,(2,1,4): 1,(2,2,1): 2,(2,2,2): 0,(2,2,3): 3,(2,2,4): 2,\n",
    "            (2,3,1): 3,(2,3,2): 2,(2,3,3): 0,(2,3,4): 3,(2,4,1): 2,(2,4,2): 2,(2,4,3): 3,(2,4,4): 0,\n",
    "         }"
   ]
  },
  {
   "cell_type": "markdown",
   "metadata": {},
   "source": [
    "### Instance generator\n",
    "The parameters are:\n",
    "- The cardinality of the set of jobs N\n",
    "- The cardinality of the set of machines M\n",
    "- The minimum and the maximum execution time\n",
    "- The minimum and the maximum setup time"
   ]
  },
  {
   "cell_type": "code",
   "execution_count": 3,
   "metadata": {},
   "outputs": [],
   "source": [
    "def generate_instance(N_cardinality, M_cardinality,\n",
    "                      min_execution_time = 1,max_execution_time = 100,\n",
    "                      min_setup_time = 1,max_setup_time = 100):\n",
    "    \n",
    "    P = {}\n",
    "    S = {}\n",
    "    \n",
    "    N = range(1, N_cardinality+1)\n",
    "    M = range(1, M_cardinality+1)\n",
    "    \n",
    "    for i in M:\n",
    "        for j in N:\n",
    "            P[i,j] = r.randint(min_execution_time, max_execution_time)\n",
    "            \n",
    "    for i in M:\n",
    "        for j in N:\n",
    "            for k in N:\n",
    "                S[i,j,k] = r.randint(min_setup_time, max_setup_time)\n",
    "    \n",
    "    return P,S\n",
    "\n",
    "N_cardinality = 10\n",
    "M_cardinality = 2\n",
    "\n",
    "P_dict, S_dict = generate_instance(N_cardinality=N_cardinality,M_cardinality=M_cardinality,\n",
    "                                   min_execution_time = 1, max_execution_time = 100,\n",
    "                                   min_setup_time = 1, max_setup_time = 100)\n",
    "\n",
    "P_dict, S_dict = generate_instance(N_cardinality=N_cardinality,M_cardinality=M_cardinality)"
   ]
  },
  {
   "cell_type": "markdown",
   "metadata": {},
   "source": [
    "The sets N,M,N0 are created again to print the results down the line"
   ]
  },
  {
   "cell_type": "code",
   "execution_count": 4,
   "metadata": {},
   "outputs": [],
   "source": [
    "N = range(1, N_cardinality+1)\n",
    "M = range(1, M_cardinality+1)\n",
    "N0 = [i for i in N]\n",
    "N0.insert(0,0)"
   ]
  },
  {
   "cell_type": "markdown",
   "metadata": {},
   "source": [
    "# Exact Solution\n",
    "\n",
    "The problem is solved exactly using the Solver class.\n",
    "\n",
    "Then, the results are printed. Note that job 0 is a dummy job used to represent the beginning and the end of activities for each machine."
   ]
  },
  {
   "cell_type": "code",
   "execution_count": 5,
   "metadata": {},
   "outputs": [
    {
     "name": "stdout",
     "output_type": "stream",
     "text": [
      "Set parameter WLSAccessID\n",
      "Set parameter WLSSecret\n",
      "Set parameter LicenseID to value 2519400\n",
      "Academic license 2519400 - for non-commercial use only - registered to gi___@studenti.units.it\n",
      "Job 1 completed at 167.0s\n",
      "Job 2 completed at 70.0s\n",
      "Job 3 completed at 225.0s\n",
      "Job 4 completed at 180.0s\n",
      "Job 5 completed at 221.0s\n",
      "Job 6 completed at 29.0s\n",
      "Job 7 completed at 163.0s\n",
      "Job 8 completed at 102.0s\n",
      "Job 9 completed at 12.0s\n",
      "Job 10 completed at 57.0s\n",
      "Job 5 has been assigned to machine 1\n",
      "Job 7 has been assigned to machine 1\n",
      "Job 8 has been assigned to machine 1\n",
      "Job 9 has been assigned to machine 1\n",
      "Job 10 has been assigned to machine 1\n",
      "Job 1 has been assigned to machine 2\n",
      "Job 2 has been assigned to machine 2\n",
      "Job 3 has been assigned to machine 2\n",
      "Job 4 has been assigned to machine 2\n",
      "Job 6 has been assigned to machine 2\n",
      "Job 0 scheduled in sequence of job 9 in machine 1\n",
      "Job 5 scheduled in sequence of job 0 in machine 1\n",
      "Job 7 scheduled in sequence of job 5 in machine 1\n",
      "Job 8 scheduled in sequence of job 7 in machine 1\n",
      "Job 9 scheduled in sequence of job 10 in machine 1\n",
      "Job 10 scheduled in sequence of job 8 in machine 1\n",
      "Job 0 scheduled in sequence of job 6 in machine 2\n",
      "Job 1 scheduled in sequence of job 4 in machine 2\n",
      "Job 2 scheduled in sequence of job 1 in machine 2\n",
      "Job 3 scheduled in sequence of job 0 in machine 2\n",
      "Job 4 scheduled in sequence of job 3 in machine 2\n",
      "Job 6 scheduled in sequence of job 2 in machine 2\n",
      "The makespan has been minimized to 225.0s\n"
     ]
    }
   ],
   "source": [
    "s = Solver(execution_times = P_dict, setup_times = S_dict)\n",
    "decision_variables,completion_times,maximum_makespan,assignments = s.solve(options=options)\n",
    "# clear_output(wait=True)\n",
    "for i in s.N:\n",
    "    print(f'Job {i} completed at {completion_times[i]}s')\n",
    "\n",
    "for i in s.M:\n",
    "    for k in s.N:\n",
    "        if assignments[i,k] == 1:\n",
    "            print(f'Job {k} has been assigned to machine {i}')\n",
    "\n",
    "for i in s.M:\n",
    "    for j in s.N0:\n",
    "        for k in s.N0:\n",
    "            if decision_variables[i,j,k] == 1:\n",
    "                print(f'Job {j} scheduled in sequence of job {k} in machine {i}')\n",
    "\n",
    "print(f'The makespan has been minimized to {maximum_makespan}s')"
   ]
  },
  {
   "cell_type": "markdown",
   "metadata": {},
   "source": [
    "# Mathematical Programming Algorithm (MPA)\n",
    "\n",
    "The paper cites a decomposition algorithm (Branch-and-check) based on the previous formulation.\n",
    "\n",
    "It is an exact formulation based on a master algorithm and a sequence algorithm:\n",
    "- The master algorithm is responsible of assigning jobs to machines\n",
    "- The sequence problem is responsible of finding the optimal sequence of jobs for each machine"
   ]
  },
  {
   "cell_type": "code",
   "execution_count": 6,
   "metadata": {},
   "outputs": [
    {
     "name": "stdout",
     "output_type": "stream",
     "text": [
      "{(1, 1, 1): 85, (1, 1, 2): 72, (1, 1, 3): 91, (1, 1, 4): 6, (1, 1, 5): 74, (1, 1, 6): 53, (1, 1, 7): 60, (1, 1, 8): 35, (1, 1, 9): 61, (1, 1, 10): 42, (1, 2, 1): 10, (1, 2, 2): 47, (1, 2, 3): 8, (1, 2, 4): 88, (1, 2, 5): 83, (1, 2, 6): 83, (1, 2, 7): 70, (1, 2, 8): 13, (1, 2, 9): 9, (1, 2, 10): 55, (1, 3, 1): 15, (1, 3, 2): 7, (1, 3, 3): 83, (1, 3, 4): 22, (1, 3, 5): 9, (1, 3, 6): 1, (1, 3, 7): 87, (1, 3, 8): 40, (1, 3, 9): 6, (1, 3, 10): 18, (1, 4, 1): 49, (1, 4, 2): 76, (1, 4, 3): 20, (1, 4, 4): 1, (1, 4, 5): 58, (1, 4, 6): 60, (1, 4, 7): 64, (1, 4, 8): 92, (1, 4, 9): 68, (1, 4, 10): 3, (1, 5, 1): 38, (1, 5, 2): 11, (1, 5, 3): 35, (1, 5, 4): 32, (1, 5, 5): 37, (1, 5, 6): 88, (1, 5, 7): 76, (1, 5, 8): 83, (1, 5, 9): 66, (1, 5, 10): 1, (1, 6, 1): 71, (1, 6, 2): 31, (1, 6, 3): 93, (1, 6, 4): 1, (1, 6, 5): 46, (1, 6, 6): 15, (1, 6, 7): 16, (1, 6, 8): 51, (1, 6, 9): 49, (1, 6, 10): 58, (1, 7, 1): 38, (1, 7, 2): 45, (1, 7, 3): 93, (1, 7, 4): 43, (1, 7, 5): 4, (1, 7, 6): 33, (1, 7, 7): 18, (1, 7, 8): 37, (1, 7, 9): 73, (1, 7, 10): 99, (1, 8, 1): 91, (1, 8, 2): 40, (1, 8, 3): 28, (1, 8, 4): 68, (1, 8, 5): 75, (1, 8, 6): 57, (1, 8, 7): 4, (1, 8, 8): 83, (1, 8, 9): 9, (1, 8, 10): 57, (1, 9, 1): 44, (1, 9, 2): 74, (1, 9, 3): 50, (1, 9, 4): 77, (1, 9, 5): 55, (1, 9, 6): 33, (1, 9, 7): 88, (1, 9, 8): 98, (1, 9, 9): 54, (1, 9, 10): 26, (1, 10, 1): 4, (1, 10, 2): 49, (1, 10, 3): 92, (1, 10, 4): 61, (1, 10, 5): 32, (1, 10, 6): 50, (1, 10, 7): 67, (1, 10, 8): 16, (1, 10, 9): 98, (1, 10, 10): 29, (2, 1, 1): 31, (2, 1, 2): 25, (2, 1, 3): 33, (2, 1, 4): 10, (2, 1, 5): 32, (2, 1, 6): 12, (2, 1, 7): 59, (2, 1, 8): 85, (2, 1, 9): 72, (2, 1, 10): 7, (2, 2, 1): 4, (2, 2, 2): 25, (2, 2, 3): 87, (2, 2, 4): 88, (2, 2, 5): 78, (2, 2, 6): 84, (2, 2, 7): 37, (2, 2, 8): 100, (2, 2, 9): 55, (2, 2, 10): 59, (2, 3, 1): 29, (2, 3, 2): 96, (2, 3, 3): 9, (2, 3, 4): 81, (2, 3, 5): 10, (2, 3, 6): 91, (2, 3, 7): 92, (2, 3, 8): 24, (2, 3, 9): 92, (2, 3, 10): 48, (2, 4, 1): 59, (2, 4, 2): 89, (2, 4, 3): 26, (2, 4, 4): 50, (2, 4, 5): 14, (2, 4, 6): 78, (2, 4, 7): 47, (2, 4, 8): 61, (2, 4, 9): 28, (2, 4, 10): 97, (2, 5, 1): 88, (2, 5, 2): 45, (2, 5, 3): 43, (2, 5, 4): 64, (2, 5, 5): 69, (2, 5, 6): 40, (2, 5, 7): 7, (2, 5, 8): 23, (2, 5, 9): 79, (2, 5, 10): 82, (2, 6, 1): 59, (2, 6, 2): 18, (2, 6, 3): 36, (2, 6, 4): 61, (2, 6, 5): 40, (2, 6, 6): 69, (2, 6, 7): 7, (2, 6, 8): 20, (2, 6, 9): 8, (2, 6, 10): 67, (2, 7, 1): 4, (2, 7, 2): 88, (2, 7, 3): 40, (2, 7, 4): 63, (2, 7, 5): 47, (2, 7, 6): 82, (2, 7, 7): 38, (2, 7, 8): 48, (2, 7, 9): 86, (2, 7, 10): 95, (2, 8, 1): 23, (2, 8, 2): 17, (2, 8, 3): 4, (2, 8, 4): 27, (2, 8, 5): 65, (2, 8, 6): 99, (2, 8, 7): 9, (2, 8, 8): 17, (2, 8, 9): 76, (2, 8, 10): 30, (2, 9, 1): 40, (2, 9, 2): 52, (2, 9, 3): 76, (2, 9, 4): 61, (2, 9, 5): 78, (2, 9, 6): 45, (2, 9, 7): 23, (2, 9, 8): 45, (2, 9, 9): 32, (2, 9, 10): 72, (2, 10, 1): 82, (2, 10, 2): 46, (2, 10, 3): 43, (2, 10, 4): 67, (2, 10, 5): 56, (2, 10, 6): 15, (2, 10, 7): 2, (2, 10, 8): 6, (2, 10, 9): 40, (2, 10, 10): 35, (1, 0, 1): 0, (1, 0, 2): 0, (1, 0, 3): 0, (1, 0, 4): 0, (1, 0, 5): 0, (1, 0, 6): 0, (1, 0, 7): 0, (1, 0, 8): 0, (1, 0, 9): 0, (1, 0, 10): 0, (2, 0, 1): 0, (2, 0, 2): 0, (2, 0, 3): 0, (2, 0, 4): 0, (2, 0, 5): 0, (2, 0, 6): 0, (2, 0, 7): 0, (2, 0, 8): 0, (2, 0, 9): 0, (2, 0, 10): 0}\n",
      "Set parameter WLSAccessID\n",
      "Set parameter WLSSecret\n",
      "Set parameter LicenseID to value 2519400\n",
      "Academic license 2519400 - for non-commercial use only - registered to gi___@studenti.units.it\n",
      "Set parameter WLSAccessID\n",
      "Set parameter WLSSecret\n",
      "Set parameter LicenseID to value 2519400\n",
      "Academic license 2519400 - for non-commercial use only - registered to gi___@studenti.units.it\n",
      "Set parameter WLSAccessID\n",
      "Set parameter WLSSecret\n",
      "Set parameter LicenseID to value 2519400\n",
      "Academic license 2519400 - for non-commercial use only - registered to gi___@studenti.units.it\n",
      "Set parameter WLSAccessID\n",
      "Set parameter WLSSecret\n",
      "Set parameter LicenseID to value 2519400\n",
      "Academic license 2519400 - for non-commercial use only - registered to gi___@studenti.units.it\n",
      "Set parameter WLSAccessID\n",
      "Set parameter WLSSecret\n",
      "Set parameter LicenseID to value 2519400\n",
      "Academic license 2519400 - for non-commercial use only - registered to gi___@studenti.units.it\n",
      "Job 0 scheduled in sequence of job 7 in machine 1\n",
      "Job 5 scheduled in sequence of job 10 in machine 1\n",
      "Job 7 scheduled in sequence of job 5 in machine 1\n",
      "Job 8 scheduled in sequence of job 9 in machine 1\n",
      "Job 9 scheduled in sequence of job 0 in machine 1\n",
      "Job 10 scheduled in sequence of job 8 in machine 1\n",
      "Job 0 scheduled in sequence of job 6 in machine 2\n",
      "Job 1 scheduled in sequence of job 4 in machine 2\n",
      "Job 2 scheduled in sequence of job 1 in machine 2\n",
      "Job 3 scheduled in sequence of job 0 in machine 2\n",
      "Job 4 scheduled in sequence of job 3 in machine 2\n",
      "Job 6 scheduled in sequence of job 2 in machine 2\n",
      "The makespan has been minimized to 225s\n"
     ]
    }
   ],
   "source": [
    "s = MPA(execution_times = P_dict, setup_times = S_dict, t_max=10800) #  max_time = 1800\n",
    "decision_variables,maximum_makespan = s.solve(options=options)\n",
    "# clear_output(wait=True)\n",
    "for i in s.M:\n",
    "    for j in s.N0:\n",
    "        for k in s.N0:\n",
    "            if decision_variables[i,j,k] == 1:\n",
    "                print(f'Job {j} scheduled in sequence of job {k} in machine {i}')\n",
    "\n",
    "print(f'The makespan has been minimized to {maximum_makespan}s')"
   ]
  },
  {
   "cell_type": "markdown",
   "metadata": {},
   "source": [
    "# Fix-and-Optimize approach"
   ]
  },
  {
   "cell_type": "markdown",
   "metadata": {},
   "source": [
    "The heuristic needs an initial solution. Its quality is proven to be very important in the heuristic's performance. Hence, in the following a greedy solution is found."
   ]
  },
  {
   "cell_type": "code",
   "execution_count": 7,
   "metadata": {},
   "outputs": [
    {
     "name": "stdout",
     "output_type": "stream",
     "text": [
      "Job 0 scheduled in sequence of job 8 in machine 1\n",
      "Job 3 scheduled in sequence of job 6 in machine 1\n",
      "Job 5 scheduled in sequence of job 0 in machine 1\n",
      "Job 6 scheduled in sequence of job 7 in machine 1\n",
      "Job 7 scheduled in sequence of job 5 in machine 1\n",
      "Job 8 scheduled in sequence of job 9 in machine 1\n",
      "Job 9 scheduled in sequence of job 3 in machine 1\n",
      "Job 0 scheduled in sequence of job 2 in machine 2\n",
      "Job 1 scheduled in sequence of job 10 in machine 2\n",
      "Job 2 scheduled in sequence of job 1 in machine 2\n",
      "Job 4 scheduled in sequence of job 0 in machine 2\n",
      "Job 10 scheduled in sequence of job 4 in machine 2\n"
     ]
    }
   ],
   "source": [
    "greedy = Greedy(execution_times=P_dict, setup_times=S_dict)\n",
    "solution = greedy.solve()\n",
    "\n",
    "for i in s.M:\n",
    "    for j in s.N0:\n",
    "        for k in s.N0:\n",
    "            if solution[i,j,k] == 1:\n",
    "                print(f'Job {j} scheduled in sequence of job {k} in machine {i}')"
   ]
  },
  {
   "cell_type": "markdown",
   "metadata": {},
   "source": [
    "Now the actual heuristcic can be run with the greedy solution as the starting configuration"
   ]
  },
  {
   "cell_type": "code",
   "execution_count": 8,
   "metadata": {},
   "outputs": [
    {
     "name": "stdout",
     "output_type": "stream",
     "text": [
      "Job 0 scheduled after job 7 in machine 1\n",
      "Job 5 scheduled after job 10 in machine 1\n",
      "Job 7 scheduled after job 5 in machine 1\n",
      "Job 8 scheduled after job 9 in machine 1\n",
      "Job 9 scheduled after job 0 in machine 1\n",
      "Job 10 scheduled after job 8 in machine 1\n",
      "Job 0 scheduled after job 6 in machine 2\n",
      "Job 1 scheduled after job 4 in machine 2\n",
      "Job 2 scheduled after job 1 in machine 2\n",
      "Job 3 scheduled after job 0 in machine 2\n",
      "Job 4 scheduled after job 3 in machine 2\n",
      "Job 6 scheduled after job 2 in machine 2\n",
      "The makespan has been minimized to 225s\n"
     ]
    }
   ],
   "source": [
    "m = FixOpt(initial_solution=solution, setup_times=S_dict,execution_times=P_dict, N=N, M=M, N0=N0, \n",
    "           subproblem_size_adjust_rate=0.1, t_max = 10, subproblem_runtime_limit=10, subproblem_size=5)\n",
    "           # WLS_license = True) # In case you are using a WLS Gurobi license\n",
    "\n",
    "solution, makespan = m.solve()\n",
    "clear_output(wait=True)\n",
    "for i in M:\n",
    "    for j in N0:\n",
    "        for k in N0:\n",
    "            if solution[i,j,k] == 1:\n",
    "                print(f'Job {j} scheduled after job {k} in machine {i}')\n",
    "print(f'The makespan has been minimized to {makespan}s')"
   ]
  }
 ],
 "metadata": {
  "kernelspec": {
   "display_name": "base",
   "language": "python",
   "name": "python3"
  },
  "language_info": {
   "codemirror_mode": {
    "name": "ipython",
    "version": 3
   },
   "file_extension": ".py",
   "mimetype": "text/x-python",
   "name": "python",
   "nbconvert_exporter": "python",
   "pygments_lexer": "ipython3",
   "version": "3.11.5"
  }
 },
 "nbformat": 4,
 "nbformat_minor": 2
}
