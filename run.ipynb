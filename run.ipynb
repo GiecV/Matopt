{
 "cells": [
  {
   "cell_type": "markdown",
   "metadata": {},
   "source": [
    "# Mathematical Optimisation - Project\n",
    "This project aims at ricreating the results reported in:\n",
    "\n",
    "[A fix-and-optimize heuristic for the Unrelated Parallel Machine Scheduling Problem\n",
    "](https://www.sciencedirect.com/science/article/pii/S0305054823003684)"
   ]
  },
  {
   "cell_type": "code",
   "execution_count": 1,
   "metadata": {},
   "outputs": [],
   "source": [
    "from Solver import Solver\n",
    "from MPA.MPA import MPA\n",
    "from Heuristic.Greedy import Greedy\n",
    "from Heuristic.FixOpt import FixOpt"
   ]
  },
  {
   "cell_type": "markdown",
   "metadata": {},
   "source": [
    "## Creation of the matrices\n",
    "\n",
    "- P stores the execution times\n",
    "- S stores the setup times\n",
    "\n",
    "These matrices are converted to dictionaries to handle the indexes not starting from 0"
   ]
  },
  {
   "cell_type": "code",
   "execution_count": 2,
   "metadata": {},
   "outputs": [],
   "source": [
    "P = [\n",
    "        [2,2,3,4],\n",
    "        [3,3,5,3]\n",
    "    ]\n",
    "\n",
    "S = [\n",
    "        [\n",
    "            [0,2,1,1],\n",
    "            [2,0,1,2],\n",
    "            [3,1,0,3],\n",
    "            [2,1,2,0]\n",
    "        ],\n",
    "        [\n",
    "            [0,3,2,1],\n",
    "            [2,0,3,2],\n",
    "            [3,2,0,3],\n",
    "            [2,2,3,0]\n",
    "        ]\n",
    "    ]\n",
    "\n",
    "S_dict = {}\n",
    "P_dict = {}\n",
    "\n",
    "for i in range(len(S)):\n",
    "    for j in range(len(S[0])):\n",
    "        for k in range(len(S[0][0])):\n",
    "            S_dict[i+1,j+1,k+1] = S[i][j][k]\n",
    "\n",
    "for i in range(len(P)):\n",
    "    for j in range(len(P[0])):\n",
    "        P_dict[i+1,j+1] = P[i][j]"
   ]
  },
  {
   "cell_type": "markdown",
   "metadata": {},
   "source": [
    "# Exact Solution\n",
    "\n",
    "The problem is solved exactly using the Solver class.\n",
    "\n",
    "Then, the results are printed. Note that job 0 is a dummy job used to represent the beginning and the end of activities for each machine."
   ]
  },
  {
   "cell_type": "code",
   "execution_count": 3,
   "metadata": {},
   "outputs": [
    {
     "name": "stdout",
     "output_type": "stream",
     "text": [
      "Restricted license - for non-production use only - expires 2025-11-24\n",
      "Maximum makespan:  7.0\n",
      "Job 2 scheduled in sequence of job 0 in machine 1\n",
      "Job 3 scheduled in sequence of job 2 in machine 1\n",
      "Job 1 scheduled in sequence of job 4 in machine 2\n",
      "Job 4 scheduled in sequence of job 0 in machine 2\n",
      "Job 1 completed at 3.0s\n",
      "Job 2 completed at 6.0s\n",
      "Job 3 completed at 3.0s\n",
      "Job 4 completed at 7.0s\n",
      "The makespan has been minimized to 7.0s\n",
      "Job 2 has been assigned to machine 1\n",
      "Job 3 has been assigned to machine 1\n",
      "Job 1 has been assigned to machine 2\n",
      "Job 4 has been assigned to machine 2\n"
     ]
    }
   ],
   "source": [
    "s = Solver(execution_times = P_dict, setup_times = S_dict)\n",
    "decision_variables,completion_times,maximum_makespan,assignments = s.solve()\n",
    "\n",
    "for i in s.M:\n",
    "    for j in s.N:\n",
    "        for k in s.N0:\n",
    "            if decision_variables[i,j,k] == 1:\n",
    "                print(f'Job {j} scheduled in sequence of job {k} in machine {i}')\n",
    "\n",
    "for i in s.N:\n",
    "    print(f'Job {i} completed at {completion_times[i]}s')\n",
    "\n",
    "print(f'The makespan has been minimized to {maximum_makespan}s')\n",
    "\n",
    "for i in s.M:\n",
    "    for k in s.N:\n",
    "        if assignments[i,k] == 1:\n",
    "            print(f'Job {k} has been assigned to machine {i}')"
   ]
  },
  {
   "cell_type": "markdown",
   "metadata": {},
   "source": [
    "# Mathematical Programming Algorithm (MPA)\n",
    "\n",
    "The paper cites a decomposition algorithm (Branch-and-check) based on the previous formulation.\n",
    "\n",
    "It is an exact formulation based on a master algorithm and a sequence algorithm:\n",
    "- The master algorithm is responsible of assigning jobs to machines\n",
    "- The sequence problem is responsible of finding the optimal sequence of jobs for each machine"
   ]
  },
  {
   "cell_type": "code",
   "execution_count": 4,
   "metadata": {},
   "outputs": [
    {
     "name": "stdout",
     "output_type": "stream",
     "text": [
      "Job 2 scheduled in sequence of job 3 in machine 1\n",
      "Job 3 scheduled in sequence of job 0 in machine 1\n",
      "Job 1 scheduled in sequence of job 4 in machine 2\n",
      "Job 4 scheduled in sequence of job 0 in machine 2\n",
      "The makespan has been minimized to 8s\n"
     ]
    }
   ],
   "source": [
    "s = MPA(execution_times = P_dict, setup_times = S_dict)\n",
    "decision_variables,maximum_makespan = s.solve()\n",
    "#print(decision_variables)\n",
    "for i in s.M:\n",
    "    for j in s.N:\n",
    "        for k in s.N0:\n",
    "            if decision_variables[i,j,k] == 1:\n",
    "                print(f'Job {j} scheduled in sequence of job {k} in machine {i}')\n",
    "\n",
    "print(f'The makespan has been minimized to {maximum_makespan}s')"
   ]
  },
  {
   "cell_type": "markdown",
   "metadata": {},
   "source": [
    "# Fix-and-Optimize approach"
   ]
  },
  {
   "cell_type": "code",
   "execution_count": 5,
   "metadata": {},
   "outputs": [
    {
     "name": "stdout",
     "output_type": "stream",
     "text": [
      "{1: [1, 2], 2: [4, 3]}\n"
     ]
    }
   ],
   "source": [
    "s = Greedy(execution_times=P_dict, setup_times=S_dict)\n",
    "solution = s.solve()\n",
    "print(solution)"
   ]
  }
 ],
 "metadata": {
  "kernelspec": {
   "display_name": "base",
   "language": "python",
   "name": "python3"
  },
  "language_info": {
   "codemirror_mode": {
    "name": "ipython",
    "version": 3
   },
   "file_extension": ".py",
   "mimetype": "text/x-python",
   "name": "python",
   "nbconvert_exporter": "python",
   "pygments_lexer": "ipython3",
   "version": "3.11.5"
  }
 },
 "nbformat": 4,
 "nbformat_minor": 2
}
