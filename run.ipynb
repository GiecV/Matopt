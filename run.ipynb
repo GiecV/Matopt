{
 "cells": [
  {
   "cell_type": "markdown",
   "metadata": {},
   "source": [
    "# Mathematical Optimisation - Project\n",
    "This project aims at ricreating the results reported in:\n",
    "\n",
    "[A fix-and-optimize heuristic for the Unrelated Parallel Machine Scheduling Problem\n",
    "](https://www.sciencedirect.com/science/article/pii/S0305054823003684)"
   ]
  },
  {
   "cell_type": "code",
   "execution_count": null,
   "metadata": {},
   "outputs": [],
   "source": [
    "from Solver import Solver\n",
    "from MPA.MPA import MPA\n",
    "from Heuristic.Greedy import Greedy\n",
    "from Heuristic.FixOpt import FixOpt\n",
    "import random as r\n",
    "import json\n",
    "from IPython.display import clear_output\n",
    "\n",
    "r.seed(3000)\n",
    "  \n",
    "with open('credentials.txt') as f: \n",
    "    data = f.read() \n",
    "options = json.loads(data)"
   ]
  },
  {
   "cell_type": "markdown",
   "metadata": {},
   "source": [
    "## Creation of the matrices\n",
    "\n",
    "- P stores the execution times\n",
    "- S stores the setup times\n",
    "\n",
    "These matrices are converted to dictionaries to handle the indexes not starting from 0"
   ]
  },
  {
   "cell_type": "code",
   "execution_count": null,
   "metadata": {},
   "outputs": [],
   "source": [
    "def generate_instance(N_cardinality, M_cardinality,\n",
    "                      min_execution_time = 1,max_execution_time = 10,\n",
    "                      min_setup_time = 1,max_setup_time = 3):\n",
    "    \n",
    "    P = {}\n",
    "    S = {}\n",
    "    \n",
    "    N = range(1, N_cardinality+1)\n",
    "    M = range(1, M_cardinality+1)\n",
    "    \n",
    "    for i in M:\n",
    "        for j in N:\n",
    "            P[i,j] = r.randint(min_execution_time, max_execution_time)\n",
    "            \n",
    "    for i in M:\n",
    "        for j in N:\n",
    "            for k in N:\n",
    "                S[i,j,k] = r.randint(min_setup_time, max_setup_time)\n",
    "    \n",
    "    return P,S\n",
    "\n",
    "N_cardinality = 30\n",
    "M_cardinality = 5\n",
    "\n",
    "P_dict, S_dict = generate_instance(N_cardinality=N_cardinality,M_cardinality=M_cardinality)\n",
    "print(f'P: {P_dict}')\n",
    "print(f'S: {S_dict}')"
   ]
  },
  {
   "cell_type": "code",
   "execution_count": null,
   "metadata": {},
   "outputs": [],
   "source": [
    "N = range(1, N_cardinality+1)\n",
    "M = range(1, M_cardinality+1)\n",
    "N0 = [i for i in N]\n",
    "N0.insert(0,0)"
   ]
  },
  {
   "cell_type": "markdown",
   "metadata": {},
   "source": [
    "# Exact Solution\n",
    "\n",
    "The problem is solved exactly using the Solver class.\n",
    "\n",
    "Then, the results are printed. Note that job 0 is a dummy job used to represent the beginning and the end of activities for each machine."
   ]
  },
  {
   "cell_type": "code",
   "execution_count": null,
   "metadata": {},
   "outputs": [],
   "source": [
    "s = Solver(execution_times = P_dict, setup_times = S_dict)\n",
    "decision_variables,completion_times,maximum_makespan,assignments = s.solve(options=options)\n",
    "\n",
    "for i in s.M:\n",
    "    for j in s.N:\n",
    "        for k in s.N0:\n",
    "            if decision_variables[i,j,k] == 1:\n",
    "                print(f'Job {j} scheduled in sequence of job {k} in machine {i}')\n",
    "\n",
    "for i in s.N:\n",
    "    print(f'Job {i} completed at {completion_times[i]}s')\n",
    "\n",
    "print(f'The makespan has been minimized to {maximum_makespan}s')\n",
    "\n",
    "for i in s.M:\n",
    "    for k in s.N:\n",
    "        if assignments[i,k] == 1:\n",
    "            print(f'Job {k} has been assigned to machine {i}')"
   ]
  },
  {
   "cell_type": "markdown",
   "metadata": {},
   "source": [
    "# Mathematical Programming Algorithm (MPA)\n",
    "\n",
    "The paper cites a decomposition algorithm (Branch-and-check) based on the previous formulation.\n",
    "\n",
    "It is an exact formulation based on a master algorithm and a sequence algorithm:\n",
    "- The master algorithm is responsible of assigning jobs to machines\n",
    "- The sequence problem is responsible of finding the optimal sequence of jobs for each machine"
   ]
  },
  {
   "cell_type": "code",
   "execution_count": null,
   "metadata": {},
   "outputs": [],
   "source": [
    "# TODO: fix this part\n",
    "\n",
    "s = MPA(execution_times = P_dict, setup_times = S_dict)\n",
    "decision_variables,maximum_makespan = s.solve(options=options)\n",
    "for i in s.M:\n",
    "    for j in s.N:\n",
    "        for k in s.N0:\n",
    "            if decision_variables[i,j,k] == 1:\n",
    "                print(f'Job {j} scheduled in sequence of job {k} in machine {i}')\n",
    "\n",
    "print(f'The makespan has been minimized to {maximum_makespan}s')"
   ]
  },
  {
   "cell_type": "markdown",
   "metadata": {},
   "source": [
    "# Fix-and-Optimize approach"
   ]
  },
  {
   "cell_type": "code",
   "execution_count": null,
   "metadata": {},
   "outputs": [],
   "source": [
    "greedy = Greedy(execution_times=P_dict, setup_times=S_dict)\n",
    "solution = greedy.solve()\n",
    "\n",
    "for i in s.M:\n",
    "    for j in s.N0:\n",
    "        for k in s.N0:\n",
    "            if solution[i,j,k] == 1:\n",
    "                print(f'Job {j} scheduled in sequence of job {k} in machine {i}')\n",
    "\n",
    "for i in s.M:\n",
    "    for k in s.N:\n",
    "        if assignments[i,k] == 1:\n",
    "            print(f'Job {k} has been assigned to machine {i}')\n",
    "\n",
    "for j in s.N:\n",
    "    print(f'Job {j} completed at {completion_times[j]}s')"
   ]
  },
  {
   "cell_type": "code",
   "execution_count": null,
   "metadata": {},
   "outputs": [],
   "source": [
    "m = FixOpt(initial_solution=solution, setup_times=S_dict,execution_times=P_dict, N=N, M=M, N0=N0, \n",
    "           subproblem_size_adjust_rate=0.1, t_max = 30, subproblem_runtime_limit=10, subproblem_size=5)\n",
    "\n",
    "solution, makespan = m.solve()\n",
    "clear_output(wait=True)\n",
    "for i in M:\n",
    "    for j in N0:\n",
    "        for k in N0:\n",
    "            if solution[i,j,k] == 1:\n",
    "                print(f'Job {j} scheduled after job {k} in machine {i}')\n",
    "print(f'The makespan has been minimized to {makespan}s')"
   ]
  }
 ],
 "metadata": {
  "kernelspec": {
   "display_name": "base",
   "language": "python",
   "name": "python3"
  },
  "language_info": {
   "codemirror_mode": {
    "name": "ipython",
    "version": 3
   },
   "file_extension": ".py",
   "mimetype": "text/x-python",
   "name": "python",
   "nbconvert_exporter": "python",
   "pygments_lexer": "ipython3",
   "version": "3.11.5"
  }
 },
 "nbformat": 4,
 "nbformat_minor": 2
}
