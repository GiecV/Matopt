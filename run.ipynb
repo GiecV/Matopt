{
 "cells": [
  {
   "cell_type": "markdown",
   "metadata": {},
   "source": [
    "# Mathematical Optimisation - Project\n",
    "This project aims at ricreating the results reported in:\n",
    "\n",
    "[A fix-and-optimize heuristic for the Unrelated Parallel Machine Scheduling Problem\n",
    "](https://www.sciencedirect.com/science/article/pii/S0305054823003684)"
   ]
  },
  {
   "cell_type": "code",
   "execution_count": 1,
   "metadata": {},
   "outputs": [],
   "source": [
    "from Solver import Solver\n",
    "from MPA.MPA import MPA\n",
    "from Heuristic.Greedy import Greedy\n",
    "from Heuristic.FixOpt import FixOpt\n",
    "import random as r\n",
    "import json\n",
    "from IPython.display import clear_output\n",
    "\n",
    "r.seed(3000)\n",
    "  \n",
    "with open('credentials.txt') as f: \n",
    "    data = f.read() \n",
    "options = json.loads(data)"
   ]
  },
  {
   "cell_type": "markdown",
   "metadata": {},
   "source": [
    "## Creation of the matrices\n",
    "\n",
    "- P stores the execution times\n",
    "- S stores the setup times\n",
    "\n",
    "These matrices are converted to dictionaries to handle the indexes not starting from 0"
   ]
  },
  {
   "cell_type": "code",
   "execution_count": 2,
   "metadata": {},
   "outputs": [
    {
     "name": "stdout",
     "output_type": "stream",
     "text": [
      "P: {(1, 1): 3, (1, 2): 5, (1, 3): 2, (1, 4): 5, (1, 5): 5, (1, 6): 3, (1, 7): 10, (1, 8): 8, (1, 9): 5, (1, 10): 4, (2, 1): 3, (2, 2): 9, (2, 3): 4, (2, 4): 4, (2, 5): 9, (2, 6): 6, (2, 7): 10, (2, 8): 10, (2, 9): 7, (2, 10): 7}\n",
      "S: {(1, 1, 1): 2, (1, 1, 2): 3, (1, 1, 3): 3, (1, 1, 4): 2, (1, 1, 5): 2, (1, 1, 6): 1, (1, 1, 7): 3, (1, 1, 8): 2, (1, 1, 9): 2, (1, 1, 10): 1, (1, 2, 1): 3, (1, 2, 2): 2, (1, 2, 3): 3, (1, 2, 4): 2, (1, 2, 5): 1, (1, 2, 6): 1, (1, 2, 7): 1, (1, 2, 8): 3, (1, 2, 9): 2, (1, 2, 10): 2, (1, 3, 1): 1, (1, 3, 2): 1, (1, 3, 3): 3, (1, 3, 4): 3, (1, 3, 5): 3, (1, 3, 6): 1, (1, 3, 7): 3, (1, 3, 8): 3, (1, 3, 9): 2, (1, 3, 10): 1, (1, 4, 1): 2, (1, 4, 2): 2, (1, 4, 3): 3, (1, 4, 4): 3, (1, 4, 5): 1, (1, 4, 6): 3, (1, 4, 7): 2, (1, 4, 8): 3, (1, 4, 9): 1, (1, 4, 10): 1, (1, 5, 1): 1, (1, 5, 2): 1, (1, 5, 3): 2, (1, 5, 4): 3, (1, 5, 5): 1, (1, 5, 6): 2, (1, 5, 7): 3, (1, 5, 8): 3, (1, 5, 9): 3, (1, 5, 10): 1, (1, 6, 1): 1, (1, 6, 2): 2, (1, 6, 3): 1, (1, 6, 4): 1, (1, 6, 5): 1, (1, 6, 6): 3, (1, 6, 7): 1, (1, 6, 8): 3, (1, 6, 9): 3, (1, 6, 10): 3, (1, 7, 1): 2, (1, 7, 2): 1, (1, 7, 3): 3, (1, 7, 4): 1, (1, 7, 5): 3, (1, 7, 6): 3, (1, 7, 7): 1, (1, 7, 8): 1, (1, 7, 9): 2, (1, 7, 10): 1, (1, 8, 1): 3, (1, 8, 2): 3, (1, 8, 3): 1, (1, 8, 4): 1, (1, 8, 5): 2, (1, 8, 6): 3, (1, 8, 7): 2, (1, 8, 8): 3, (1, 8, 9): 3, (1, 8, 10): 2, (1, 9, 1): 1, (1, 9, 2): 1, (1, 9, 3): 1, (1, 9, 4): 3, (1, 9, 5): 1, (1, 9, 6): 1, (1, 9, 7): 2, (1, 9, 8): 1, (1, 9, 9): 2, (1, 9, 10): 2, (1, 10, 1): 3, (1, 10, 2): 1, (1, 10, 3): 1, (1, 10, 4): 3, (1, 10, 5): 3, (1, 10, 6): 3, (1, 10, 7): 2, (1, 10, 8): 2, (1, 10, 9): 3, (1, 10, 10): 3, (2, 1, 1): 2, (2, 1, 2): 2, (2, 1, 3): 3, (2, 1, 4): 3, (2, 1, 5): 2, (2, 1, 6): 1, (2, 1, 7): 3, (2, 1, 8): 3, (2, 1, 9): 1, (2, 1, 10): 3, (2, 2, 1): 1, (2, 2, 2): 2, (2, 2, 3): 3, (2, 2, 4): 1, (2, 2, 5): 1, (2, 2, 6): 3, (2, 2, 7): 2, (2, 2, 8): 1, (2, 2, 9): 1, (2, 2, 10): 3, (2, 3, 1): 2, (2, 3, 2): 1, (2, 3, 3): 1, (2, 3, 4): 3, (2, 3, 5): 1, (2, 3, 6): 1, (2, 3, 7): 1, (2, 3, 8): 2, (2, 3, 9): 3, (2, 3, 10): 2, (2, 4, 1): 2, (2, 4, 2): 2, (2, 4, 3): 3, (2, 4, 4): 1, (2, 4, 5): 3, (2, 4, 6): 1, (2, 4, 7): 2, (2, 4, 8): 2, (2, 4, 9): 2, (2, 4, 10): 3, (2, 5, 1): 3, (2, 5, 2): 2, (2, 5, 3): 3, (2, 5, 4): 1, (2, 5, 5): 2, (2, 5, 6): 3, (2, 5, 7): 3, (2, 5, 8): 3, (2, 5, 9): 1, (2, 5, 10): 1, (2, 6, 1): 3, (2, 6, 2): 2, (2, 6, 3): 3, (2, 6, 4): 1, (2, 6, 5): 2, (2, 6, 6): 3, (2, 6, 7): 3, (2, 6, 8): 1, (2, 6, 9): 2, (2, 6, 10): 1, (2, 7, 1): 2, (2, 7, 2): 3, (2, 7, 3): 2, (2, 7, 4): 1, (2, 7, 5): 3, (2, 7, 6): 1, (2, 7, 7): 1, (2, 7, 8): 1, (2, 7, 9): 3, (2, 7, 10): 2, (2, 8, 1): 2, (2, 8, 2): 1, (2, 8, 3): 1, (2, 8, 4): 2, (2, 8, 5): 2, (2, 8, 6): 3, (2, 8, 7): 2, (2, 8, 8): 3, (2, 8, 9): 2, (2, 8, 10): 3, (2, 9, 1): 1, (2, 9, 2): 2, (2, 9, 3): 1, (2, 9, 4): 1, (2, 9, 5): 1, (2, 9, 6): 3, (2, 9, 7): 2, (2, 9, 8): 2, (2, 9, 9): 2, (2, 9, 10): 3, (2, 10, 1): 2, (2, 10, 2): 1, (2, 10, 3): 3, (2, 10, 4): 1, (2, 10, 5): 2, (2, 10, 6): 2, (2, 10, 7): 2, (2, 10, 8): 3, (2, 10, 9): 2, (2, 10, 10): 1}\n"
     ]
    }
   ],
   "source": [
    "def generate_instance(N_cardinality, M_cardinality,\n",
    "                      min_execution_time = 1,max_execution_time = 10,\n",
    "                      min_setup_time = 1,max_setup_time = 3):\n",
    "    \n",
    "    P = {}\n",
    "    S = {}\n",
    "    \n",
    "    N = range(1, N_cardinality+1)\n",
    "    M = range(1, M_cardinality+1)\n",
    "    \n",
    "    for i in M:\n",
    "        for j in N:\n",
    "            P[i,j] = r.randint(min_execution_time, max_execution_time)\n",
    "            \n",
    "    for i in M:\n",
    "        for j in N:\n",
    "            for k in N:\n",
    "                S[i,j,k] = r.randint(min_setup_time, max_setup_time)\n",
    "    \n",
    "    return P,S\n",
    "\n",
    "N_cardinality = 10\n",
    "M_cardinality = 2\n",
    "\n",
    "P_dict, S_dict = generate_instance(N_cardinality=N_cardinality,M_cardinality=M_cardinality)\n",
    "print(f'P: {P_dict}')\n",
    "print(f'S: {S_dict}')"
   ]
  },
  {
   "cell_type": "code",
   "execution_count": 3,
   "metadata": {},
   "outputs": [],
   "source": [
    "N = range(1, N_cardinality+1)\n",
    "M = range(1, M_cardinality+1)\n",
    "N0 = [i for i in N]\n",
    "N0.insert(0,0)"
   ]
  },
  {
   "cell_type": "markdown",
   "metadata": {},
   "source": [
    "# Exact Solution\n",
    "\n",
    "The problem is solved exactly using the Solver class.\n",
    "\n",
    "Then, the results are printed. Note that job 0 is a dummy job used to represent the beginning and the end of activities for each machine."
   ]
  },
  {
   "cell_type": "code",
   "execution_count": 4,
   "metadata": {},
   "outputs": [
    {
     "name": "stdout",
     "output_type": "stream",
     "text": [
      "Set parameter WLSAccessID\n",
      "Set parameter WLSSecret\n",
      "Set parameter LicenseID to value 2519400\n",
      "Academic license 2519400 - for non-commercial use only - registered to gi___@studenti.units.it\n",
      "Job 1 scheduled in sequence of job 0 in machine 1\n",
      "Job 2 scheduled in sequence of job 6 in machine 1\n",
      "Job 5 scheduled in sequence of job 10 in machine 1\n",
      "Job 6 scheduled in sequence of job 1 in machine 1\n",
      "Job 9 scheduled in sequence of job 5 in machine 1\n",
      "Job 10 scheduled in sequence of job 2 in machine 1\n",
      "Job 3 scheduled in sequence of job 7 in machine 2\n",
      "Job 4 scheduled in sequence of job 0 in machine 2\n",
      "Job 7 scheduled in sequence of job 4 in machine 2\n",
      "Job 8 scheduled in sequence of job 3 in machine 2\n",
      "Job 1 completed at 30.0s\n",
      "Job 2 completed at 22.0s\n",
      "Job 3 completed at 15.0s\n",
      "Job 4 completed at 31.0s\n",
      "Job 5 completed at 11.0s\n",
      "Job 6 completed at 26.0s\n",
      "Job 7 completed at 26.0s\n",
      "Job 8 completed at 10.0s\n",
      "Job 9 completed at 5.0s\n",
      "Job 10 completed at 16.0s\n",
      "The makespan has been minimized to 31.0s\n",
      "Job 1 has been assigned to machine 1\n",
      "Job 2 has been assigned to machine 1\n",
      "Job 5 has been assigned to machine 1\n",
      "Job 6 has been assigned to machine 1\n",
      "Job 9 has been assigned to machine 1\n",
      "Job 10 has been assigned to machine 1\n",
      "Job 3 has been assigned to machine 2\n",
      "Job 4 has been assigned to machine 2\n",
      "Job 7 has been assigned to machine 2\n",
      "Job 8 has been assigned to machine 2\n"
     ]
    }
   ],
   "source": [
    "s = Solver(execution_times = P_dict, setup_times = S_dict)\n",
    "decision_variables,completion_times,maximum_makespan,assignments = s.solve(options=options)\n",
    "\n",
    "for i in s.M:\n",
    "    for j in s.N:\n",
    "        for k in s.N0:\n",
    "            if decision_variables[i,j,k] == 1:\n",
    "                print(f'Job {j} scheduled in sequence of job {k} in machine {i}')\n",
    "\n",
    "for i in s.N:\n",
    "    print(f'Job {i} completed at {completion_times[i]}s')\n",
    "\n",
    "print(f'The makespan has been minimized to {maximum_makespan}s')\n",
    "\n",
    "for i in s.M:\n",
    "    for k in s.N:\n",
    "        if assignments[i,k] == 1:\n",
    "            print(f'Job {k} has been assigned to machine {i}')"
   ]
  },
  {
   "cell_type": "markdown",
   "metadata": {},
   "source": [
    "# Mathematical Programming Algorithm (MPA)\n",
    "\n",
    "The paper cites a decomposition algorithm (Branch-and-check) based on the previous formulation.\n",
    "\n",
    "It is an exact formulation based on a master algorithm and a sequence algorithm:\n",
    "- The master algorithm is responsible of assigning jobs to machines\n",
    "- The sequence problem is responsible of finding the optimal sequence of jobs for each machine"
   ]
  },
  {
   "cell_type": "code",
   "execution_count": 5,
   "metadata": {},
   "outputs": [
    {
     "name": "stdout",
     "output_type": "stream",
     "text": [
      "Set parameter WLSAccessID\n",
      "Set parameter WLSSecret\n",
      "Set parameter LicenseID to value 2519400\n",
      "Academic license 2519400 - for non-commercial use only - registered to gi___@studenti.units.it\n",
      "Set parameter WLSAccessID\n",
      "Set parameter WLSSecret\n",
      "Set parameter LicenseID to value 2519400\n",
      "Academic license 2519400 - for non-commercial use only - registered to gi___@studenti.units.it\n",
      "Set parameter WLSAccessID\n",
      "Set parameter WLSSecret\n",
      "Set parameter LicenseID to value 2519400\n",
      "Academic license 2519400 - for non-commercial use only - registered to gi___@studenti.units.it\n",
      "1\n",
      "C_max_h  {1: {1: 24.0, 2: 25.0}}\n",
      "self.M  range(1, 3)\n",
      "C_max_h  {1: {1: 24.0, 2: 25.0}}\n",
      "Y  {(1, 0): <gurobi.Var *Awaiting Model Update*>, (1, 1): <gurobi.Var *Awaiting Model Update*>, (1, 2): <gurobi.Var *Awaiting Model Update*>, (1, 3): <gurobi.Var *Awaiting Model Update*>, (1, 4): <gurobi.Var *Awaiting Model Update*>, (1, 5): <gurobi.Var *Awaiting Model Update*>, (1, 6): <gurobi.Var *Awaiting Model Update*>, (1, 7): <gurobi.Var *Awaiting Model Update*>, (1, 8): <gurobi.Var *Awaiting Model Update*>, (1, 9): <gurobi.Var *Awaiting Model Update*>, (1, 10): <gurobi.Var *Awaiting Model Update*>, (2, 0): <gurobi.Var *Awaiting Model Update*>, (2, 1): <gurobi.Var *Awaiting Model Update*>, (2, 2): <gurobi.Var *Awaiting Model Update*>, (2, 3): <gurobi.Var *Awaiting Model Update*>, (2, 4): <gurobi.Var *Awaiting Model Update*>, (2, 5): <gurobi.Var *Awaiting Model Update*>, (2, 6): <gurobi.Var *Awaiting Model Update*>, (2, 7): <gurobi.Var *Awaiting Model Update*>, (2, 8): <gurobi.Var *Awaiting Model Update*>, (2, 9): <gurobi.Var *Awaiting Model Update*>, (2, 10): <gurobi.Var *Awaiting Model Update*>}\n",
      "theta  {1: {(1, 1): 3, (1, 2): 7, (1, 3): 5, (1, 4): 5, (1, 5): 8, (1, 6): 5, (1, 7): 10, (1, 8): 8, (1, 9): 5, (1, 10): 5, (2, 1): 5, (2, 2): 9, (2, 3): 4, (2, 4): 4, (2, 5): 9, (2, 6): 6, (2, 7): 12, (2, 8): 10, (2, 9): 8, (2, 10): 7}}\n",
      "N_h  {1: {1: 5.0, 2: 3.0}}\n"
     ]
    },
    {
     "ename": "TypeError",
     "evalue": "'float' object is not iterable",
     "output_type": "error",
     "traceback": [
      "\u001b[1;31m---------------------------------------------------------------------------\u001b[0m",
      "\u001b[1;31mTypeError\u001b[0m                                 Traceback (most recent call last)",
      "Cell \u001b[1;32mIn[5], line 2\u001b[0m\n\u001b[0;32m      1\u001b[0m s \u001b[38;5;241m=\u001b[39m MPA(execution_times \u001b[38;5;241m=\u001b[39m P_dict, setup_times \u001b[38;5;241m=\u001b[39m S_dict)\n\u001b[1;32m----> 2\u001b[0m decision_variables,maximum_makespan \u001b[38;5;241m=\u001b[39m \u001b[43ms\u001b[49m\u001b[38;5;241;43m.\u001b[39;49m\u001b[43msolve\u001b[49m\u001b[43m(\u001b[49m\u001b[43moptions\u001b[49m\u001b[38;5;241;43m=\u001b[39;49m\u001b[43moptions\u001b[49m\u001b[43m)\u001b[49m\n\u001b[0;32m      3\u001b[0m \u001b[38;5;28;01mfor\u001b[39;00m i \u001b[38;5;129;01min\u001b[39;00m s\u001b[38;5;241m.\u001b[39mM:\n\u001b[0;32m      4\u001b[0m     \u001b[38;5;28;01mfor\u001b[39;00m j \u001b[38;5;129;01min\u001b[39;00m s\u001b[38;5;241m.\u001b[39mN:\n",
      "File \u001b[1;32me:\\Matopt\\MPA\\MPA.py:59\u001b[0m, in \u001b[0;36mMPA.solve\u001b[1;34m(self, options)\u001b[0m\n\u001b[0;32m     55\u001b[0m     master_solution, master_assignments, master_makespan, master_status \u001b[38;5;241m=\u001b[39m master\u001b[38;5;241m.\u001b[39msolve(options\u001b[38;5;241m=\u001b[39moptions, iteration\u001b[38;5;241m=\u001b[39miteration,\n\u001b[0;32m     56\u001b[0m                                                                    C_max_h\u001b[38;5;241m=\u001b[39mC_max_h,\n\u001b[0;32m     57\u001b[0m                                                                    theta\u001b[38;5;241m=\u001b[39mthetas, N_h\u001b[38;5;241m=\u001b[39mN_h)\n\u001b[0;32m     58\u001b[0m \u001b[38;5;28;01melse\u001b[39;00m:\n\u001b[1;32m---> 59\u001b[0m     master_solution, master_assignments, master_makespan, master_status \u001b[38;5;241m=\u001b[39m \u001b[43mmaster\u001b[49m\u001b[38;5;241;43m.\u001b[39;49m\u001b[43msolve\u001b[49m\u001b[43m(\u001b[49m\u001b[43moptions\u001b[49m\u001b[38;5;241;43m=\u001b[39;49m\u001b[43moptions\u001b[49m\u001b[43m,\u001b[49m\u001b[43m \u001b[49m\u001b[43mC_max_h\u001b[49m\u001b[38;5;241;43m=\u001b[39;49m\u001b[43mC_max_h\u001b[49m\u001b[43m,\u001b[49m\n\u001b[0;32m     60\u001b[0m \u001b[43m                                                                   \u001b[49m\u001b[43mtheta\u001b[49m\u001b[38;5;241;43m=\u001b[39;49m\u001b[43mthetas\u001b[49m\u001b[43m,\u001b[49m\u001b[43m \u001b[49m\u001b[43mN_h\u001b[49m\u001b[38;5;241;43m=\u001b[39;49m\u001b[43mN_h\u001b[49m\u001b[43m)\u001b[49m\n\u001b[0;32m     62\u001b[0m \u001b[38;5;28;01mif\u001b[39;00m master_makespan \u001b[38;5;241m<\u001b[39m best_makespan:\n\u001b[0;32m     63\u001b[0m     sequence \u001b[38;5;241m=\u001b[39m Sequence(fixed_assignments\u001b[38;5;241m=\u001b[39m master_assignments, M \u001b[38;5;241m=\u001b[39m \u001b[38;5;28mself\u001b[39m\u001b[38;5;241m.\u001b[39mM, N \u001b[38;5;241m=\u001b[39m \u001b[38;5;28mself\u001b[39m\u001b[38;5;241m.\u001b[39mN, N0  \u001b[38;5;241m=\u001b[39m \u001b[38;5;28mself\u001b[39m\u001b[38;5;241m.\u001b[39mN0, \n\u001b[0;32m     64\u001b[0m                         setup_times\u001b[38;5;241m=\u001b[39m\u001b[38;5;28mself\u001b[39m\u001b[38;5;241m.\u001b[39msetup_times, execution_times\u001b[38;5;241m=\u001b[39m \u001b[38;5;28mself\u001b[39m\u001b[38;5;241m.\u001b[39m execution_times, time_limit \u001b[38;5;241m=\u001b[39m t)\n",
      "File \u001b[1;32me:\\Matopt\\MPA\\Master.py:103\u001b[0m, in \u001b[0;36mMaster.solve\u001b[1;34m(self, C_max_h, theta, N_h, options, iteration)\u001b[0m\n\u001b[0;32m    100\u001b[0m     \u001b[38;5;28mprint\u001b[39m(\u001b[38;5;124m'\u001b[39m\u001b[38;5;124mN_h \u001b[39m\u001b[38;5;124m'\u001b[39m, N_h)\n\u001b[0;32m    101\u001b[0m     \u001b[38;5;28;01mfor\u001b[39;00m i \u001b[38;5;129;01min\u001b[39;00m \u001b[38;5;28mself\u001b[39m\u001b[38;5;241m.\u001b[39mM:\n\u001b[0;32m    102\u001b[0m         master\u001b[38;5;241m.\u001b[39maddConstr(C_max \u001b[38;5;241m>\u001b[39m\u001b[38;5;241m=\u001b[39m C_max_h[h][i] \u001b[38;5;241m-\u001b[39m \n\u001b[1;32m--> 103\u001b[0m                          gb\u001b[38;5;241m.\u001b[39mquicksum\u001b[43m(\u001b[49m\u001b[43m \u001b[49m\u001b[43m(\u001b[49m\u001b[38;5;241;43m1\u001b[39;49m\u001b[43m \u001b[49m\u001b[38;5;241;43m-\u001b[39;49m\u001b[43m \u001b[49m\u001b[43mY\u001b[49m\u001b[43m[\u001b[49m\u001b[43mi\u001b[49m\u001b[43m,\u001b[49m\u001b[43mj\u001b[49m\u001b[43m]\u001b[49m\u001b[43m)\u001b[49m\u001b[43m \u001b[49m\u001b[38;5;241;43m*\u001b[39;49m\u001b[43m \u001b[49m\n\u001b[0;32m    104\u001b[0m \u001b[43m                                     \u001b[49m\u001b[43mtheta\u001b[49m\u001b[43m[\u001b[49m\u001b[43mh\u001b[49m\u001b[43m]\u001b[49m\u001b[43m[\u001b[49m\u001b[43mi\u001b[49m\u001b[43m,\u001b[49m\u001b[43mj\u001b[49m\u001b[43m]\u001b[49m\u001b[43m \u001b[49m\n\u001b[0;32m    105\u001b[0m \u001b[43m                                     \u001b[49m\u001b[38;5;28;43;01mfor\u001b[39;49;00m\u001b[43m \u001b[49m\u001b[43mj\u001b[49m\u001b[43m \u001b[49m\u001b[38;5;129;43;01min\u001b[39;49;00m\u001b[43m \u001b[49m\u001b[43mN_h\u001b[49m\u001b[43m[\u001b[49m\u001b[43mh\u001b[49m\u001b[43m]\u001b[49m\u001b[43m[\u001b[49m\u001b[43mi\u001b[49m\u001b[43m]\u001b[49m\u001b[43m \u001b[49m\u001b[43m)\u001b[49m)\n\u001b[0;32m    107\u001b[0m \u001b[38;5;66;03m# Solve the problem\u001b[39;00m\n\u001b[0;32m    108\u001b[0m master\u001b[38;5;241m.\u001b[39moptimize()\n",
      "\u001b[1;31mTypeError\u001b[0m: 'float' object is not iterable"
     ]
    }
   ],
   "source": [
    "s = MPA(execution_times = P_dict, setup_times = S_dict)\n",
    "decision_variables,maximum_makespan = s.solve(options=options)\n",
    "for i in s.M:\n",
    "    for j in s.N:\n",
    "        for k in s.N0:\n",
    "            if decision_variables[i,j,k] == 1:\n",
    "                print(f'Job {j} scheduled in sequence of job {k} in machine {i}')\n",
    "\n",
    "print(f'The makespan has been minimized to {maximum_makespan}s')"
   ]
  },
  {
   "cell_type": "markdown",
   "metadata": {},
   "source": [
    "# Fix-and-Optimize approach"
   ]
  },
  {
   "cell_type": "code",
   "execution_count": null,
   "metadata": {},
   "outputs": [],
   "source": [
    "greedy = Greedy(execution_times=P_dict, setup_times=S_dict)\n",
    "solution = greedy.solve()\n",
    "\n",
    "for i in s.M:\n",
    "    for j in s.N0:\n",
    "        for k in s.N0:\n",
    "            if solution[i,j,k] == 1:\n",
    "                print(f'Job {j} scheduled in sequence of job {k} in machine {i}')\n",
    "\n",
    "for i in s.M:\n",
    "    for k in s.N:\n",
    "        if assignments[i,k] == 1:\n",
    "            print(f'Job {k} has been assigned to machine {i}')\n",
    "\n",
    "for j in s.N:\n",
    "    print(f'Job {j} completed at {completion_times[j]}s')"
   ]
  },
  {
   "cell_type": "code",
   "execution_count": null,
   "metadata": {},
   "outputs": [],
   "source": [
    "m = FixOpt(initial_solution=solution, setup_times=S_dict,execution_times=P_dict, N=N, M=M, N0=N0, \n",
    "           subproblem_size_adjust_rate=0.1, t_max = 30, subproblem_runtime_limit=10, subproblem_size=5)\n",
    "\n",
    "solution, makespan = m.solve()\n",
    "clear_output(wait=True)\n",
    "for i in M:\n",
    "    for j in N0:\n",
    "        for k in N0:\n",
    "            if solution[i,j,k] == 1:\n",
    "                print(f'Job {j} scheduled after job {k} in machine {i}')\n",
    "print(f'The makespan has been minimized to {makespan}s')"
   ]
  }
 ],
 "metadata": {
  "kernelspec": {
   "display_name": "base",
   "language": "python",
   "name": "python3"
  },
  "language_info": {
   "codemirror_mode": {
    "name": "ipython",
    "version": 3
   },
   "file_extension": ".py",
   "mimetype": "text/x-python",
   "name": "python",
   "nbconvert_exporter": "python",
   "pygments_lexer": "ipython3",
   "version": "3.11.5"
  }
 },
 "nbformat": 4,
 "nbformat_minor": 2
}
